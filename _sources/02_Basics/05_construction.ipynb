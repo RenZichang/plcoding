{
 "cells": [
  {
   "cell_type": "markdown",
   "id": "48b42982",
   "metadata": {},
   "source": [
    "# 五、构造"
   ]
  },
  {
   "cell_type": "markdown",
   "id": "e0628c58",
   "metadata": {},
   "source": [
    "## 1. Monte-Carlo构造法\n",
    "\n",
    "> 简单介绍Arikan给出的最简单方案\n",
    "\n",
    "---"
   ]
  },
  {
   "cell_type": "markdown",
   "id": "2a80c27d",
   "metadata": {},
   "source": [
    "## 2. Density Evolution构造法\n",
    "\n",
    "> 介绍DE构造法\n",
    "\n",
    "---"
   ]
  },
  {
   "cell_type": "markdown",
   "id": "6252dc23",
   "metadata": {},
   "source": [
    "## 3. 启发式构造法\n",
    "\n",
    "> 介绍华为的极化重量、遗传算法等\n",
    "\n",
    "---"
   ]
  },
  {
   "cell_type": "markdown",
   "id": "5da26acf",
   "metadata": {},
   "source": [
    "## 4. 开放性问题\n",
    "\n",
    "> 介绍一些开放性问题"
   ]
  }
 ],
 "metadata": {
  "language_info": {
   "name": "python"
  }
 },
 "nbformat": 4,
 "nbformat_minor": 5
}
