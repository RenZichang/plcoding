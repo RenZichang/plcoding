{
 "cells": [
  {
   "cell_type": "markdown",
   "id": "23c9d626",
   "metadata": {},
   "source": [
    "# 三、极化编码技术\n",
    "\n",
    "---"
   ]
  },
  {
   "cell_type": "markdown",
   "id": "59b660b1",
   "metadata": {},
   "source": [
    "## 1. Polarization 与 Polar Coding\n",
    "\n",
    "> 指出极化现象与极化编码并非同一事物，简单介绍极化编码的原思想与经过发展后的思想\n",
    "\n",
    "---"
   ]
  },
  {
   "cell_type": "markdown",
   "id": "a11785fd",
   "metadata": {},
   "source": [
    "## 2. 极化速率\n",
    "\n",
    "> 介绍极化速率的概念，给出原极化码的性能分析\n",
    "\n",
    "---"
   ]
  },
  {
   "cell_type": "markdown",
   "id": "0db369fb",
   "metadata": {},
   "source": [
    "## 3. 非二进制极化码\n",
    "\n",
    "> 讲解非二进制极化码的编译码\n",
    "\n",
    "---"
   ]
  },
  {
   "cell_type": "markdown",
   "id": "12311b40",
   "metadata": {},
   "source": [
    "## 4. 其他形式的极化码\n",
    "\n",
    "> 介绍广义极化码、半冻结极化码、级联码、RM-Polar码等"
   ]
  }
 ],
 "metadata": {
  "language_info": {
   "name": "python"
  }
 },
 "nbformat": 4,
 "nbformat_minor": 5
}
