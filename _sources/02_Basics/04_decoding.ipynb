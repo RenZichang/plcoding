{
 "cells": [
  {
   "cell_type": "markdown",
   "id": "f0f92e54",
   "metadata": {},
   "source": [
    "# 四、译码"
   ]
  },
  {
   "cell_type": "markdown",
   "id": "605d0030",
   "metadata": {},
   "source": [
    "## 1. 非标准SC译码\n",
    "\n",
    "> 介绍一下非标准SC译码的大概情况\n",
    "\n",
    "---"
   ]
  },
  {
   "cell_type": "markdown",
   "id": "9ee06301",
   "metadata": {},
   "source": [
    "## 2. SCL列表译码\n",
    "\n",
    "> 简单介绍一下SCL译码，不深入讨论其低复杂度实现方法\n",
    "\n",
    "---"
   ]
  },
  {
   "cell_type": "markdown",
   "id": "d7e7f45c",
   "metadata": {},
   "source": [
    "## 3. BP译码\n",
    "\n",
    "> 介绍一下极化码的BP译码与BPL译码\n",
    "\n",
    "---"
   ]
  },
  {
   "cell_type": "markdown",
   "id": "0b54dc9d",
   "metadata": {},
   "source": [
    "## 4. 早停与并行化\n",
    "\n",
    "> 介绍一下SC译码的早停机制与其他并行化操作\n",
    "\n",
    "---"
   ]
  }
 ],
 "metadata": {
  "language_info": {
   "name": "python"
  }
 },
 "nbformat": 4,
 "nbformat_minor": 5
}
