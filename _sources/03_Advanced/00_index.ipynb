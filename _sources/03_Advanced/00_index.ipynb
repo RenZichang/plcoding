{
 "cells": [
  {
   "cell_type": "markdown",
   "id": "ceb39adc",
   "metadata": {},
   "source": [
    "# 第三章：极化码进阶\n",
    "\n",
    "---"
   ]
  },
  {
   "cell_type": "markdown",
   "id": "6912f69f",
   "metadata": {},
   "source": [
    "在这一章会放一些我自己的研究笔记，会涉及一些非常高级的极化理论与极化编码技术。感兴趣可以大概浏览，不保证可读性。"
   ]
  }
 ],
 "metadata": {
  "language_info": {
   "name": "python"
  }
 },
 "nbformat": 4,
 "nbformat_minor": 5
}
