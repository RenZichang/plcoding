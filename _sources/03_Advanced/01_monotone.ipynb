{
 "cells": [
  {
   "cell_type": "markdown",
   "id": "a3b2a883",
   "metadata": {},
   "source": [
    "# 一、单调链极化码"
   ]
  },
  {
   "cell_type": "markdown",
   "id": "f01bd710",
   "metadata": {},
   "source": [
    "## 1. SW问题\n",
    "\n",
    "> SW问题\n",
    "\n",
    "---"
   ]
  },
  {
   "cell_type": "markdown",
   "id": "d4718059",
   "metadata": {},
   "source": [
    "## 2. 单调链\n",
    "\n",
    "> 单调链\n",
    "\n",
    "---"
   ]
  },
  {
   "cell_type": "markdown",
   "id": "08480e8d",
   "metadata": {},
   "source": [
    "## 3. 列表译码\n",
    "\n",
    "> 单调列表译码"
   ]
  }
 ],
 "metadata": {
  "language_info": {
   "name": "python"
  }
 },
 "nbformat": 4,
 "nbformat_minor": 5
}
