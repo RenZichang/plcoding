{
 "cells": [
  {
   "cell_type": "markdown",
   "id": "6453f4e2",
   "metadata": {},
   "source": [
    "# 一、什么是极化码？"
   ]
  },
  {
   "cell_type": "markdown",
   "id": "02111e35",
   "metadata": {},
   "source": [
    "极化码（*Polar Codes*）由土耳其教授 **Erdal Arikan** 提出：  \n",
    "![Arikan教授](./figures/arikan.png)\n",
    "\n",
    "首次发表在 2008 年的国际信息论会议：*IEEE International Symposium on Information Theory*\n",
    "\n",
    "是一种具有划时代意义的**纠错编码技术**\n",
    "\n",
    "---"
   ]
  },
  {
   "cell_type": "markdown",
   "id": "d3fbb1d7",
   "metadata": {},
   "source": [
    "## 技术亮点\n",
    "\n",
    "极化码具有亚线性的编译码复杂度：$\\mathcal{O}(N \\log N)$\n",
    "\n",
    "而且**理论上被严格证明**可以达到**对称二进制输入无记忆信道**（*Symmetric Binary-Input Memoryless Channels*）的信道容量。\n",
    "\n",
    "这在编码理论历史上是一个**前无古人**的突破，极大地激发了学术界的研究热情。\n",
    "\n",
    "---"
   ]
  },
  {
   "cell_type": "markdown",
   "id": "77b31dfc",
   "metadata": {},
   "source": [
    "## 纠错编码技术的发展历程（简略）\n",
    "\n",
    "1. **Hamming 码阶段**\n",
    "2. **代数编码**（如 BCH、RS）\n",
    "3. **随机编码**（如 LDGM）\n",
    "4. **序列译码**（如 卷积码、Turbo码）\n",
    "5. **低密度校验码**（LDPC）\n",
    "6. **极化码**（Polar Codes）\n",
    "\n",
    "---"
   ]
  },
  {
   "cell_type": "markdown",
   "id": "aeb49d35",
   "metadata": {},
   "source": [
    "## 极化码研究方向\n",
    "\n",
    "**理论研究**\n",
    "\n",
    "- 有限码长下的性能极限\n",
    "- 有损信源压缩、SW 问题（Slepian–Wolf）\n",
    "- 多址接入信道、多终端问题\n",
    "- 通用极化码、非固定冻结集设计\n",
    "- 误比特率（BER）\n",
    "\n",
    "**实用应用**\n",
    "\n",
    "- 非 $2^n$ 码长构造与优化\n",
    "- 码率匹配、自适应极化结构\n",
    "- 与卷积码等的级联结构\n",
    "- 高吞吐量实现、早停机制\n",
    "- 编译码算法的并行化优化\n",
    "\n",
    "---"
   ]
  },
  {
   "cell_type": "markdown",
   "id": "ce691ce7",
   "metadata": {},
   "source": [
    "## 极化编码的经典范式\n",
    "\n",
    "1. 明确应用场景，执行构造算法，获得一个极化码；\n",
    "2. 根据构造结果，在冻结位输入比特$0$，在信息位输入待传输比特；\n",
    "3. 将编码结果送入信道传输；\n",
    "4. 根据先验知识，对接收码字进行译码。"
   ]
  }
 ],
 "metadata": {
  "kernelspec": {
   "display_name": "rzc_d2l",
   "language": "python",
   "name": "python3"
  },
  "language_info": {
   "name": "python",
   "version": "3.11.11"
  }
 },
 "nbformat": 4,
 "nbformat_minor": 5
}
