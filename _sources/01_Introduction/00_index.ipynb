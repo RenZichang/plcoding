{
 "cells": [
  {
   "cell_type": "markdown",
   "id": "4bcde03c",
   "metadata": {},
   "source": [
    "# 第一章：极化码简介"
   ]
  },
  {
   "cell_type": "markdown",
   "id": "0973d3e2",
   "metadata": {},
   "source": [
    "初学者友好的章节，三分钟上手，不讲原理只讲怎么做。"
   ]
  }
 ],
 "metadata": {
  "language_info": {
   "name": "python"
  }
 },
 "nbformat": 4,
 "nbformat_minor": 5
}
