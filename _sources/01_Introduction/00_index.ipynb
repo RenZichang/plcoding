{
 "cells": [
  {
   "cell_type": "markdown",
   "id": "36d96170",
   "metadata": {},
   "source": [
    "# "
   ]
  },
  {
   "cell_type": "markdown",
   "id": "42bbe5a5",
   "metadata": {},
   "source": [
    "初学者友好的极化码简介，三分钟上手，不讲原理只讲怎么做。"
   ]
  }
 ],
 "metadata": {
  "language_info": {
   "name": "python"
  }
 },
 "nbformat": 4,
 "nbformat_minor": 5
}
