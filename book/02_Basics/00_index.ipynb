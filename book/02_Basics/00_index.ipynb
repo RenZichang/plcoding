{
 "cells": [
  {
   "cell_type": "markdown",
   "id": "4798af05",
   "metadata": {},
   "source": [
    "极化码基础，对一些基本概念和理论会进行深入讨论"
   ]
  }
 ],
 "metadata": {
  "language_info": {
   "name": "python"
  }
 },
 "nbformat": 4,
 "nbformat_minor": 5
}
