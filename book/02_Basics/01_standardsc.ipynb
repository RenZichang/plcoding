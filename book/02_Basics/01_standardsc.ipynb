{
 "cells": [
  {
   "cell_type": "markdown",
   "id": "090a928a",
   "metadata": {},
   "source": [
    "# 一、标准SC译码\n",
    "\n",
    "---"
   ]
  },
  {
   "cell_type": "markdown",
   "id": "3fa06a6d",
   "metadata": {},
   "source": [
    "## 1. Bayes推理\n",
    "\n",
    "> 讲解二元极化核上的贝叶斯推理，然后给出标准SC译码算法，包括非二进制情况\n",
    "\n",
    "---"
   ]
  },
  {
   "cell_type": "markdown",
   "id": "014e05a7",
   "metadata": {},
   "source": [
    "## 2. Arikan的译码函数\n",
    "\n",
    "> 讲解Arikan给出的F函数和G函数的推导过程\n",
    "\n",
    "---"
   ]
  },
  {
   "cell_type": "markdown",
   "id": "ba750fcf",
   "metadata": {},
   "source": [
    "## 3. 可逆变换\n",
    "\n",
    "> 说明极化码计算过程的可逆性，通过自信息的不变性，顺势引出条件熵与条件概率分布的熵"
   ]
  }
 ],
 "metadata": {
  "language_info": {
   "name": "python"
  }
 },
 "nbformat": 4,
 "nbformat_minor": 5
}
