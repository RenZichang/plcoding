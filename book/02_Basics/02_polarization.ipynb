{
 "cells": [
  {
   "cell_type": "markdown",
   "id": "df7d3bbe",
   "metadata": {},
   "source": [
    "# 二、信道极化现象\n",
    "\n",
    "---"
   ]
  },
  {
   "cell_type": "markdown",
   "id": "c4e412b6",
   "metadata": {},
   "source": [
    "## 1. 极化信道及其容量\n",
    "\n",
    "> 给出极化信道的数学表达式，然后通过简单场景直观演示信道容量的变化。\n",
    "\n",
    "---"
   ]
  },
  {
   "cell_type": "markdown",
   "id": "881a0b4c",
   "metadata": {},
   "source": [
    "## 2. 信道合并与拆分\n",
    "\n",
    "> 讲解Arikan极化信道的构造过程，顺势引出鞅的概念。\n",
    "\n",
    "---"
   ]
  },
  {
   "cell_type": "markdown",
   "id": "1979d2e2",
   "metadata": {},
   "source": [
    "## 3. 鞅论基础\n",
    "\n",
    "> 介绍一下鞅的基本概念、以及Arikan所使用的鞅收敛定理\n",
    "\n",
    "---"
   ]
  },
  {
   "cell_type": "markdown",
   "id": "8e74a1ac",
   "metadata": {},
   "source": [
    "## 4. BEC信道的极化\n",
    "\n",
    "> 展示一下BEC信道的极化现象，说明BEC构造法的合理与不足之处"
   ]
  }
 ],
 "metadata": {
  "language_info": {
   "name": "python"
  }
 },
 "nbformat": 4,
 "nbformat_minor": 5
}
