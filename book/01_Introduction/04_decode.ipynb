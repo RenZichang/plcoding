{
 "cells": [
  {
   "cell_type": "markdown",
   "id": "9e2d270a",
   "metadata": {},
   "source": [
    "# 四、如何译码？"
   ]
  },
  {
   "cell_type": "markdown",
   "id": "931a13e7",
   "metadata": {},
   "source": [
    "## 4.1 最小和SC译码\n",
    "\n",
    "待续\n",
    "\n",
    "---"
   ]
  },
  {
   "cell_type": "markdown",
   "id": "74393ad5",
   "metadata": {},
   "source": [
    "## 4.2 标准SC译码\n",
    "\n",
    "待续"
   ]
  }
 ],
 "metadata": {
  "kernelspec": {
   "display_name": "rzc_d2l",
   "language": "python",
   "name": "rzc_d2l"
  },
  "language_info": {
   "name": "python",
   "version": "3.11.11"
  }
 },
 "nbformat": 4,
 "nbformat_minor": 5
}
