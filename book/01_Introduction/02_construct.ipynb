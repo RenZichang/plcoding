{
 "cells": [
  {
   "cell_type": "markdown",
   "id": "d934a1c3",
   "metadata": {},
   "source": [
    "# 二、如何构造极化码？"
   ]
  },
  {
   "cell_type": "markdown",
   "id": "83916d48",
   "metadata": {},
   "source": [
    "## 2.1 理论 v.s. 实践\n",
    "\n",
    "极化码（*Polar Codes*）不是某一特定码的名称，而是**一类遵循相同理论与设计思想的码**。\n",
    "\n",
    "**极化码的理论共性**：\n",
    "- 基本性质：**线性码（Linear Codes）**\n",
    "- 理论基础：**信道极化现象（Channel Polarization）**\n",
    "- 设计策略：**冻结位（Frozen Bits）+信息位（Information Bits）**\n",
    "\n",
    "**极化码的构造**：\n",
    "\n",
    "极化码的最优性是理论上的，但在实际场景下，不论什么码，总存在错误概率。一般来讲，码长越长、码率越低的极化码纠错能力越强，但过长的码长会带来巨大的计算复杂度，而过低的码率则会带来较差的信息承载能力。因此，在使用前，应当依据具体应用需求，权衡冻结位和信息位的选取，从而获得一个可用的极化码。\n",
    "\n",
    "---"
   ]
  },
  {
   "cell_type": "markdown",
   "id": "2fe3b2b2",
   "metadata": {},
   "source": [
    "## 2.2 构造算法\n",
    "\n",
    "**目的**：确定各个极化信道的可靠度。\n",
    "\n",
    "**已有方案**：\n",
    "1. Monte Carlo 法：通过大量仿真，估计各极化信道的判决错误率；\n",
    "2. 密度演化算法（Density Evolution）：基于LDPC的阈值分析理论，分析极化码各比特位的判决错误率；\n",
    "3. 高斯近似（Gaussian Approximation）：对密度演化中的消息分布进行高斯建模，简化计算；\n",
    "4. 信道退化（Channel Degradation）：构造退化信道序列估计可靠度；\n",
    "5. 一些启发式算法，如极化权重算法（Polarization Weight）、遗传算法等，兼顾性能与复杂度。\n",
    "\n",
    "从初学者的角度考虑，**BEC构造法**是不错的入手点，因为它具有如下特点：\n",
    "- 理论依据直观；\n",
    "- 编程实现简单；\n",
    "- 在基础场景下具备良好性能。\n",
    "\n",
    "我们考虑下面这样一个比特翻转信道"
   ]
  },
  {
   "cell_type": "code",
   "execution_count": null,
   "id": "c7677d10",
   "metadata": {},
   "outputs": [],
   "source": [
    "import plcoding\n",
    "# 比特翻转概率\n",
    "flip_prob = 0.11\n",
    "# 信道容量=1-噪声熵\n",
    "channel_cap = 1 - plcoding.h2_of(flip_prob)\n",
    "print(f\"信道容量{channel_cap:.2f}[bit]\")"
   ]
  },
  {
   "cell_type": "markdown",
   "id": "5c4cf6e3",
   "metadata": {},
   "source": [
    "我们使用BEC构造法，构造出一系列不同码率的极化码，然后测试它们的译码错误率："
   ]
  },
  {
   "cell_type": "code",
   "execution_count": null,
   "id": "7c954b4e",
   "metadata": {},
   "outputs": [],
   "source": [
    "%run ./codes/bler_rate.py"
   ]
  },
  {
   "cell_type": "markdown",
   "id": "555afd6a",
   "metadata": {},
   "source": [
    "通过上图可以大概明白极化码为什么需要构造、以及合适的参数一般是多少。\n",
    "\n",
    "在建立了直观印象之后，接下来，我们关注**BEC构造法的具体实现**：\n",
    "\n",
    "给定一个实数$e \\in (0, 1)$，我们根据它计算得到两个新的值$e^2$和$2e - e^2$，也即：  \n",
    "$(e) \\to (e^2, 2e - e^2)$  \n",
    "然后我们分别对这两个新的值，继续执行上述操作。也即若记$\\alpha = e^2, \\beta = 2e - e^2$，那么：  \n",
    "$(\\alpha, \\beta) \\to (\\alpha^2, 2\\alpha - \\alpha^2,\\beta^2,  2\\beta - \\beta^2)$  \n",
    "依照上述过程，对码长为$N=2^n$的极化码而言，应当重复$n$次。"
   ]
  },
  {
   "cell_type": "code",
   "execution_count": null,
   "id": "209a417b",
   "metadata": {},
   "outputs": [],
   "source": [
    "# 初始化几个关键值\n",
    "e, n = 0.5, 10\n",
    "# 迭代执行上述过程\n",
    "old_list = [e]\n",
    "for _ in range(n):\n",
    "    new_list = []\n",
    "    for element in old_list:\n",
    "        a = element ** 2\n",
    "        b = 2 * element - element ** 2\n",
    "        new_list.extend([a, b])\n",
    "    old_list = new_list\n",
    "# 简单绘制一下\n",
    "from matplotlib import pyplot as plt\n",
    "plt.figure(figsize=(8, 4))\n",
    "plt.plot(old_list, 'r.')\n",
    "plt.show()"
   ]
  }
 ],
 "metadata": {
  "kernelspec": {
   "display_name": "rzc_d2l",
   "language": "python",
   "name": "python3"
  },
  "language_info": {
   "codemirror_mode": {
    "name": "ipython",
    "version": 3
   },
   "file_extension": ".py",
   "mimetype": "text/x-python",
   "name": "python",
   "nbconvert_exporter": "python",
   "pygments_lexer": "ipython3",
   "version": "3.11.11"
  }
 },
 "nbformat": 4,
 "nbformat_minor": 5
}
