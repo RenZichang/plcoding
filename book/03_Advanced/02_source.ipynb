{
 "cells": [
  {
   "cell_type": "markdown",
   "id": "21c65d88",
   "metadata": {},
   "source": [
    "# 二、信源极化码\n",
    "\n",
    "---"
   ]
  },
  {
   "cell_type": "markdown",
   "id": "2595be4c",
   "metadata": {},
   "source": [
    "## 1. 无损信源极化码\n",
    "\n",
    "> Arikan的定长无损信源极化码\n",
    "\n",
    "---"
   ]
  },
  {
   "cell_type": "markdown",
   "id": "2e65b472",
   "metadata": {},
   "source": [
    "## 2. 有损信源极化码\n",
    "\n",
    "> 其他人提出的有损信源极化码\n",
    "\n",
    "---"
   ]
  },
  {
   "cell_type": "markdown",
   "id": "c3053d2f",
   "metadata": {},
   "source": [
    "## 3. 连续可精细化问题\n",
    "\n",
    "> 极化码的连续可精细化编译码算法"
   ]
  }
 ],
 "metadata": {
  "language_info": {
   "name": "python"
  }
 },
 "nbformat": 4,
 "nbformat_minor": 5
}
