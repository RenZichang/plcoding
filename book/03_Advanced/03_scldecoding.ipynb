{
 "cells": [
  {
   "cell_type": "markdown",
   "id": "a0938bc6",
   "metadata": {},
   "source": [
    "# 三、SCL译码"
   ]
  },
  {
   "cell_type": "markdown",
   "id": "187d626e",
   "metadata": {},
   "source": [
    "## 1. 低复杂度实现\n",
    "\n",
    "> 介绍一下SCL的低复杂度实现方法\n",
    "\n",
    "---"
   ]
  },
  {
   "cell_type": "markdown",
   "id": "3eb9d1ac",
   "metadata": {},
   "source": [
    "## 2. 拓展\n",
    "\n",
    "> 介绍一下在其他方向的拓展"
   ]
  }
 ],
 "metadata": {
  "language_info": {
   "name": "python"
  }
 },
 "nbformat": 4,
 "nbformat_minor": 5
}
