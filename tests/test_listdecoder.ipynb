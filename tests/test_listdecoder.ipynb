{
 "cells": [
  {
   "cell_type": "code",
   "execution_count": 1,
   "id": "41fd1162",
   "metadata": {},
   "outputs": [],
   "source": [
    "import plcoding\n",
    "from plcoding.cpp_core.monotone import MCListDecoder\n",
    "import numpy as np\n",
    "from tqdm import trange"
   ]
  },
  {
   "cell_type": "code",
   "execution_count": 2,
   "id": "c417377a",
   "metadata": {},
   "outputs": [],
   "source": [
    "# 先验概率分布\n",
    "src_bases = np.array([2, 2], dtype=int); src_probs = np.array([0.01, 0.10, 0.09, 0.80])\n",
    "#src_bases = np.array([2, 2], dtype=int); src_probs = np.array([0.11, 0.00, 0.00, 0.89])\n",
    "#src_bases = np.array([2], dtype=int); src_probs = np.array([0.11, 0.89])\n",
    "n_var = src_bases.size\n",
    "code_lvl = 3\n",
    "code_len = (1 << code_lvl)\n",
    "# 生成一条简单的单调链\n",
    "monotone_chain = []\n",
    "for i in range(n_var):\n",
    "    monotone_chain.append(np.zeros((code_len,), dtype=int) + i)\n",
    "monotone_chain = np.concatenate(monotone_chain)\n",
    "# 初始化译码器\n",
    "list_size = 4\n",
    "decoder = MCListDecoder(code_len, src_bases, list_size)\n",
    "# 生成一批测试数据\n",
    "decoder.set_priors(np.tile(src_probs, (code_len, 1)))"
   ]
  },
  {
   "cell_type": "code",
   "execution_count": 3,
   "id": "862942d7",
   "metadata": {},
   "outputs": [
    {
     "name": "stderr",
     "output_type": "stream",
     "text": [
      "100%|███████████████████████████████████████| 16/16 [00:00<00:00, 122461.43it/s]\n"
     ]
    }
   ],
   "source": [
    "decoder.reset()\n",
    "headers = np.zeros(n_var, dtype=int)\n",
    "for sup in trange(len(monotone_chain), ncols=80):\n",
    "    var = monotone_chain[sup]\n",
    "    index = headers[var]\n",
    "    headers[var] += 1\n",
    "    decoder.explore_at(var, index)"
   ]
  },
  {
   "cell_type": "code",
   "execution_count": 4,
   "id": "f3bd999a",
   "metadata": {},
   "outputs": [
    {
     "data": {
      "text/plain": [
       "array([[[1, 1],\n",
       "        [1, 1],\n",
       "        [1, 1],\n",
       "        [1, 1],\n",
       "        [1, 1],\n",
       "        [1, 1],\n",
       "        [1, 1],\n",
       "        [1, 1]],\n",
       "\n",
       "       [[1, 1],\n",
       "        [1, 1],\n",
       "        [1, 1],\n",
       "        [1, 1],\n",
       "        [1, 0],\n",
       "        [1, 1],\n",
       "        [1, 1],\n",
       "        [1, 1]],\n",
       "\n",
       "       [[1, 1],\n",
       "        [1, 1],\n",
       "        [1, 0],\n",
       "        [1, 1],\n",
       "        [1, 1],\n",
       "        [1, 1],\n",
       "        [1, 1],\n",
       "        [1, 1]],\n",
       "\n",
       "       [[1, 1],\n",
       "        [1, 1],\n",
       "        [1, 1],\n",
       "        [1, 1],\n",
       "        [1, 1],\n",
       "        [1, 1],\n",
       "        [1, 0],\n",
       "        [1, 1]]], dtype=int32)"
      ]
     },
     "execution_count": 4,
     "metadata": {},
     "output_type": "execute_result"
    }
   ],
   "source": [
    "decoder.get_results().reshape([-1, code_len, n_var])"
   ]
  },
  {
   "cell_type": "code",
   "execution_count": 5,
   "id": "bfb4f3e4",
   "metadata": {},
   "outputs": [
    {
     "data": {
      "text/plain": [
       "array([-1.78514841, -3.96995047, -3.96995047, -3.96995047])"
      ]
     },
     "execution_count": 5,
     "metadata": {},
     "output_type": "execute_result"
    }
   ],
   "source": [
    "decoder.get_likelihoods()"
   ]
  }
 ],
 "metadata": {
  "kernelspec": {
   "display_name": "rzc_d2l",
   "language": "python",
   "name": "python3"
  },
  "language_info": {
   "codemirror_mode": {
    "name": "ipython",
    "version": 3
   },
   "file_extension": ".py",
   "mimetype": "text/x-python",
   "name": "python",
   "nbconvert_exporter": "python",
   "pygments_lexer": "ipython3",
   "version": "3.11.11"
  }
 },
 "nbformat": 4,
 "nbformat_minor": 5
}
