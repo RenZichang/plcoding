{
 "cells": [
  {
   "cell_type": "code",
   "execution_count": 1,
   "id": "41fd1162",
   "metadata": {},
   "outputs": [],
   "source": [
    "import plcoding\n",
    "from plcoding.cpp_core.monotone import MCListDecoder\n",
    "import numpy as np"
   ]
  },
  {
   "cell_type": "code",
   "execution_count": 2,
   "id": "c417377a",
   "metadata": {},
   "outputs": [],
   "source": [
    "# 先验概率分布\n",
    "src_bases = np.array([2], dtype=int)\n",
    "src_probs = np.array([0.89, 0.11])\n",
    "code_lvl = 1\n",
    "code_len = (1 << code_lvl)\n",
    "# 生成一条简单的单调链\n",
    "monotone_chain = []\n",
    "for i in range(src_bases.size):\n",
    "    monotone_chain.append(np.zeros((code_len,), dtype=int) + i)\n",
    "monotone_chain = np.concatenate(monotone_chain)\n",
    "# 初始化译码器\n",
    "list_size = 4\n",
    "decoder = MCListDecoder(code_len, src_bases, list_size)\n",
    "#is_frozen = plcoding.topk_indicate(plcoding.bec_channels(code_lvl, e=0.5, _log=True), code_len // 2)\n",
    "is_frozen = np.zeros((code_len,), dtype=bool)"
   ]
  },
  {
   "cell_type": "code",
   "execution_count": 3,
   "id": "dfd7c2b3",
   "metadata": {},
   "outputs": [],
   "source": [
    "# 生成一批测试数据\n",
    "decoder.set_priors(np.tile(src_probs, (code_len, 1)))"
   ]
  },
  {
   "cell_type": "code",
   "execution_count": 4,
   "id": "862942d7",
   "metadata": {},
   "outputs": [],
   "source": [
    "decoder.reset()\n",
    "headers = np.zeros(src_bases.size, dtype=int)\n",
    "for sup in range(len(monotone_chain)):\n",
    "    # 获取译码位置\n",
    "    var = monotone_chain[i]\n",
    "    index = headers[var]\n",
    "    headers[var] += 1\n",
    "    # 根据是否冻结，执行两种操作\n",
    "    if (is_frozen[sup]):\n",
    "        decoder.freeze_with(var, index, 0)\n",
    "    else:\n",
    "        decoder.explore_at(var, index)"
   ]
  },
  {
   "cell_type": "code",
   "execution_count": 5,
   "id": "2f0fc263",
   "metadata": {},
   "outputs": [],
   "source": [
    "# 最后查看一下是否正确译码\n",
    "decoding_results = decoder.get_results()\n",
    "decoding_results = decoding_results.reshape(-1, code_len, src_probs.size)\n",
    "codewords = np.argmax(decoding_results, axis=2)"
   ]
  },
  {
   "cell_type": "code",
   "execution_count": 6,
   "id": "8f19c77f",
   "metadata": {},
   "outputs": [
    {
     "data": {
      "text/plain": [
       "array([-0.23306763, -4.41454983, -2.32380873, -2.32380873])"
      ]
     },
     "execution_count": 6,
     "metadata": {},
     "output_type": "execute_result"
    }
   ],
   "source": [
    "decoder.get_likelihoods()"
   ]
  },
  {
   "cell_type": "code",
   "execution_count": 7,
   "id": "50ace9a3",
   "metadata": {},
   "outputs": [
    {
     "data": {
      "text/plain": [
       "array([[0, 0],\n",
       "       [1, 1],\n",
       "       [0, 0],\n",
       "       [1, 1]])"
      ]
     },
     "execution_count": 7,
     "metadata": {},
     "output_type": "execute_result"
    }
   ],
   "source": [
    "codewords"
   ]
  },
  {
   "cell_type": "code",
   "execution_count": 8,
   "id": "3b029162",
   "metadata": {},
   "outputs": [
    {
     "data": {
      "text/plain": [
       "array([[[1., 0.],\n",
       "        [1., 0.]],\n",
       "\n",
       "       [[0., 1.],\n",
       "        [0., 1.]],\n",
       "\n",
       "       [[1., 0.],\n",
       "        [1., 0.]],\n",
       "\n",
       "       [[0., 1.],\n",
       "        [0., 1.]]])"
      ]
     },
     "execution_count": 8,
     "metadata": {},
     "output_type": "execute_result"
    }
   ],
   "source": [
    "decoding_results"
   ]
  }
 ],
 "metadata": {
  "kernelspec": {
   "display_name": "rzc_d2l",
   "language": "python",
   "name": "python3"
  },
  "language_info": {
   "codemirror_mode": {
    "name": "ipython",
    "version": 3
   },
   "file_extension": ".py",
   "mimetype": "text/x-python",
   "name": "python",
   "nbconvert_exporter": "python",
   "pygments_lexer": "ipython3",
   "version": "3.11.11"
  }
 },
 "nbformat": 4,
 "nbformat_minor": 5
}
